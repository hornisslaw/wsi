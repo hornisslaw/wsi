{
  "cells": [
    {
      "cell_type": "code",
      "execution_count": null,
      "metadata": {},
      "outputs": [],
      "source": [
        "\"\"\"\n",
        "Introduction to Artificial Intelligence, Exercise 5:\n",
        "Neural networks.\n",
        "Authors: \n",
        "    Robert Kaczmarski 293377\n",
        "    Damian Łysomirski 293365\n",
        "\"\"\""
      ]
    },
    {
      "cell_type": "code",
      "execution_count": null,
      "metadata": {
        "id": "bQ2Go6MUO73U"
      },
      "outputs": [],
      "source": [
        "import numpy as np\n",
        "import matplotlib.pyplot as plt\n",
        "\n",
        "from sklearn.datasets import fetch_openml\n",
        "from sklearn.model_selection import train_test_split"
      ]
    },
    {
      "cell_type": "code",
      "execution_count": 75,
      "metadata": {
        "id": "jBoiB3egO9KS"
      },
      "outputs": [],
      "source": [
        "x, y = fetch_openml('mnist_784', version=1, cache = True, return_X_y=True)"
      ]
    },
    {
      "cell_type": "code",
      "execution_count": 76,
      "metadata": {
        "id": "gL2uVC8HeNdc"
      },
      "outputs": [],
      "source": [
        "# normalize values to [0, 1] range\n",
        "x = (x/255).astype('float32')"
      ]
    },
    {
      "cell_type": "code",
      "execution_count": 77,
      "metadata": {
        "id": "P2y7Upi5k80J"
      },
      "outputs": [],
      "source": [
        "# change to categorical representation\n",
        "# example: y[0]=5 change to y[0]=[0, 0, 0, 0, 0, 1, 0, 0, 0, 0]\n",
        "new_y = np.zeros((70000, 10), dtype='float32')\n",
        "for i, n in enumerate(y):\n",
        "  new_y[i][int(n)] = 1 \n"
      ]
    },
    {
      "cell_type": "code",
      "execution_count": 78,
      "metadata": {
        "id": "RmgSVQuigYkc"
      },
      "outputs": [],
      "source": [
        "train_data, test_data, train_labels, test_labels = train_test_split(x, new_y, test_size=0.143, random_state=1)"
      ]
    },
    {
      "cell_type": "code",
      "execution_count": 82,
      "metadata": {
        "id": "jjbutqPtWo9r"
      },
      "outputs": [],
      "source": [
        "class NeuralNetwork:\n",
        "    \"\"\"Class that setups and initializes network.\n",
        "\n",
        "    Attributes:\n",
        "        dimension (list[int]): determine the dimensions of the individual layers\n",
        "        layers (int): number of layers\n",
        "        epochs (int): number of epochs\n",
        "        lerning_rate: sets the speed at which the network will learn\n",
        "        parameters (dict): holds W, b, Z, A\n",
        "    \n",
        "    \"\"\"\n",
        "\n",
        "    def __init__(self, dimensions, epochs=10, lerning_rate = 0.01) -> None:\n",
        "        self.dimensions = dimensions\n",
        "        self.layers = len(self.dimensions)\n",
        "        self.epochs = epochs\n",
        "        self.lerning_rate = lerning_rate\n",
        "        self.parameters = self.initialize()\n",
        "    \n",
        "    def initialize(self):\n",
        "        \"\"\"Initialize weigths and biases with random value from normal distribution.\"\"\"\n",
        "        np.random.seed(1)\n",
        "        parameters = {}\n",
        "\n",
        "        for i in range(1, self.layers):\n",
        "            parameters['W'+str(i)] = np.random.randn(self.dimensions[i], self.dimensions[i-1])\n",
        "            parameters['b'+str(i)] = np.random.randn(self.dimensions[i])\n",
        "  \n",
        "        return parameters\n",
        "\n",
        "    def forward_propagation(self, input):\n",
        "        \"\"\"Forward pass through the neural network.\"\"\"\n",
        "        params = self.parameters\n",
        "        params['A0'] = input\n",
        "\n",
        "        for i in range(1, self.layers-1):\n",
        "            params['Z'+str(i)] = np.matmul(params['W'+str(i)], params['A'+str(i-1)]) + params['b'+str(i)]\n",
        "            params['A'+str(i)] = self.sigmoid(params['Z'+str(i)])\n",
        "        \n",
        "        params['Z'+str(self.layers-1)] = np.matmul(params['W'+str(self.layers-1)], params['A'+str(self.layers-2)]) + params['b'+str(self.layers-1)]\n",
        "        params['A'+str(self.layers-1)] = self.softmax(params['Z'+str(self.layers-1)])\n",
        "\n",
        "        return params['A'+str(self.layers-1)]\n",
        "\n",
        "    def backward_propagation(self, y, output):\n",
        "        \"\"\"Backward propagation with calculating changes to weights and biases.\n",
        "        \n",
        "        Note:\n",
        "            d_error is derivative of MSE error. MSE = (output - y)^2\n",
        "        \"\"\"\n",
        "        params = self.parameters\n",
        "        change = {}\n",
        "\n",
        "        d_error = 2 * (output - y) / output.shape[0] * self.dsoftmax(params['Z'+str(self.layers-1)])\n",
        "        change['W'+str(self.layers-1)] = np.outer(d_error, params['A'+str(self.layers-2)])\n",
        "        change['b'+str(self.layers-1)] = d_error\n",
        "\n",
        "        for i in range(self.layers-2, 0, -1):\n",
        "            d_error = np.matmul(params['W'+str(i+1)].T, d_error) * self.dsigmoid(params['Z'+str(i)])\n",
        "            change['W'+str(i)] = np.outer(d_error, params['A'+str(i-1)])\n",
        "            change['b'+str(i)] = d_error\n",
        "\n",
        "        return change\n",
        "\n",
        "    def update_params(self, changes):\n",
        "        \"\"\"Update weights and biases.\n",
        "\n",
        "            w = w - lerning_rate*gradient(dC/dw)\n",
        "            b = b - lerning_rate*gradient(dC/db)\n",
        "            where C is MSE cost function.\n",
        "        \"\"\"\n",
        "        for key, value in changes.items():\n",
        "            self.parameters[key] -= self.lerning_rate * value\n",
        "\n",
        "    def train(self, train_data, train_labels, test_data, test_labels):\n",
        "        \"\"\"Method for training model.\"\"\"\n",
        "        mse = []\n",
        "\n",
        "        for epoch in range(self.epochs):\n",
        "            for x, y in zip(train_data, train_labels):\n",
        "                output = self.forward_propagation(x)\n",
        "                mse.append((output - y)**2)\n",
        "                param_changes = self.backward_propagation(y, output)\n",
        "                self.update_params(param_changes)\n",
        "\n",
        "            print(f\"MSE = {np.mean(mse)}\")\n",
        "            accuracy = self.accuracy(test_data, test_labels)\n",
        "            print(f'Epoch: {epoch+1}, , Accuracy: {accuracy*100:.2f}%')\n",
        "\n",
        "    def sigmoid(self, z):\n",
        "        \"\"\"Activation function.\"\"\"\n",
        "        return 1 / (1 + np.exp(-z))\n",
        "    \n",
        "    def dsigmoid(self, z):\n",
        "        \"\"\"Derivative of sigmoid activation function.\"\"\"\n",
        "        sigm = self.sigmoid(z)\n",
        "        # return (np.exp(-z))/((np.exp(-z)+1)**2)\n",
        "        return sigm * (1 - sigm)\n",
        "    \n",
        "    def softmax(self, x):\n",
        "        \"\"\"Function converts a vector of K real values into a vector of K real values that sum to 1.\"\"\"\n",
        "        exps = np.exp(x - x.max())\n",
        "        return exps / np.sum(exps, axis=0)\n",
        "\n",
        "    def dsoftmax(self, x):\n",
        "        \"\"\"Derivative of softmax function.\"\"\"\n",
        "        exps = np.exp(x - x.max())\n",
        "        return exps / np.sum(exps, axis=0) * (1 - exps / np.sum(exps, axis=0))\n",
        "\n",
        "    def accuracy(self, data, labels):\n",
        "        '''Accuracy of prediction in epoch.'''\n",
        "        predictions = []\n",
        "\n",
        "        for x, y in zip(data, labels):\n",
        "            output = self.forward_propagation(x)\n",
        "            pred = np.argmax(output)\n",
        "            predictions.append(pred == np.argmax(y))\n",
        "        \n",
        "        return np.mean(predictions)\n",
        "      \n",
        "    def confusion_matrix(self, data, labels):\n",
        "        \"\"\"Calculate confusion matrix values.\"\"\"\n",
        "        conf_mat = []\n",
        "        temp_dict = {}\n",
        "\n",
        "        for i in range(0, 10):\n",
        "            temp_dict[i] = 0\n",
        "        for _ in range(0, 10):\n",
        "            conf_mat.append(temp_dict.copy())\n",
        "\n",
        "        for x, y in zip(data, labels):\n",
        "            output = self.forward_propagation(x)\n",
        "            pred = np.argmax(output)\n",
        "            correct = np.argmax(y)\n",
        "            conf_mat[correct][pred] += 1\n",
        "        \n",
        "        return conf_mat\n",
        "    \n",
        "    def get_examples(self, test_data, test_labels, correct, number):\n",
        "        \"\"\"Get test examples to display correctness of classification\"\"\"\n",
        "        examples = []\n",
        "        for x, y in zip(test_data, test_labels):\n",
        "            output = self.forward_propagation(x)\n",
        "            prediction = np.argmax(output)\n",
        "            expected = np.argmax(y)\n",
        "            res = (prediction == expected)\n",
        "\n",
        "            if res == correct:\n",
        "                print(\"app\")\n",
        "                examples.append((prediction, expected, x))\n",
        "\n",
        "            if len(examples) == number:\n",
        "                print(\"break\")\n",
        "                break\n",
        "\n",
        "        return examples"
      ]
    },
    {
      "cell_type": "code",
      "execution_count": 83,
      "metadata": {
        "id": "bmlrvVOEXWj9"
      },
      "outputs": [],
      "source": [
        "def display_confucion_matrix(confusion_matrix):\n",
        "    \"\"\"Simple function for displaying the error matrix.\"\"\"\n",
        "    predicted = \"predicted\"\n",
        "    expected = \"expected\"\n",
        "    print(\"Confuse matrix:\\n\")\n",
        "    print(\"  \", end=\" \")\n",
        "    for e in expected:\n",
        "        print(e, end=\"   \")\n",
        "    print(\"\")\n",
        "    print(\"   0 | 1 | 2 | 3 | 4 | 5 | 6 | 7 | 8 | 9\")\n",
        "    for i, x in enumerate(zip(*list(dic.values() for dic in confusion_matrix))):\n",
        "        if i < len(predicted):\n",
        "            print(predicted[i], i, x)\n",
        "        else:\n",
        "            print(\" \", i, x)"
      ]
    },
    {
      "cell_type": "code",
      "execution_count": 84,
      "metadata": {
        "id": "Xy0xM-5dHky-"
      },
      "outputs": [],
      "source": [
        "# input dimension is 28x28=784, output=10\n",
        "dimensions = [784, 256, 10]\n",
        "epochs = 15\n",
        "lerning_rate = 0.01"
      ]
    },
    {
      "cell_type": "code",
      "execution_count": 85,
      "metadata": {
        "colab": {
          "base_uri": "https://localhost:8080/"
        },
        "id": "FyfvHLRKAMbA",
        "outputId": "94a4e07c-79f9-429b-da2a-de69d9556d70"
      },
      "outputs": [
        {
          "name": "stdout",
          "output_type": "stream",
          "text": [
            "MSE = 0.12666408756544897\n",
            "Epoch: 1, , Accuracy: 35.69%\n",
            "MSE = 0.1085900033221518\n",
            "Epoch: 2, , Accuracy: 46.64%\n",
            "MSE = 0.09634985737557493\n",
            "Epoch: 3, , Accuracy: 54.87%\n",
            "MSE = 0.08716246904043391\n",
            "Epoch: 4, , Accuracy: 60.88%\n",
            "MSE = 0.08012056549213047\n",
            "Epoch: 5, , Accuracy: 64.90%\n",
            "MSE = 0.07452482429521995\n",
            "Epoch: 6, , Accuracy: 68.04%\n",
            "MSE = 0.0699033772497996\n",
            "Epoch: 7, , Accuracy: 71.14%\n",
            "MSE = 0.06599846576335498\n",
            "Epoch: 8, , Accuracy: 73.27%\n",
            "MSE = 0.06265073497059864\n",
            "Epoch: 9, , Accuracy: 75.01%\n",
            "MSE = 0.05974825338300937\n",
            "Epoch: 10, , Accuracy: 76.82%\n",
            "MSE = 0.0572063439384956\n",
            "Epoch: 11, , Accuracy: 78.04%\n",
            "MSE = 0.05496014695489045\n",
            "Epoch: 12, , Accuracy: 79.17%\n",
            "MSE = 0.05295945068634481\n",
            "Epoch: 13, , Accuracy: 79.90%\n",
            "MSE = 0.051164447126472376\n",
            "Epoch: 14, , Accuracy: 80.56%\n",
            "MSE = 0.049543207420541725\n",
            "Epoch: 15, , Accuracy: 80.96%\n"
          ]
        }
      ],
      "source": [
        "nn = NeuralNetwork(dimensions, epochs, lerning_rate)\n",
        "nn.train(np.array(train_data), train_labels, np.array(test_data), test_labels)"
      ]
    },
    {
      "cell_type": "code",
      "execution_count": 86,
      "metadata": {
        "colab": {
          "base_uri": "https://localhost:8080/"
        },
        "id": "ebfUU03X_xe4",
        "outputId": "66daae61-c240-4bab-cc25-d99f547230bc"
      },
      "outputs": [
        {
          "name": "stdout",
          "output_type": "stream",
          "text": [
            "app\n",
            "app\n",
            "break\n",
            "app\n",
            "app\n",
            "app\n",
            "app\n",
            "app\n",
            "app\n",
            "app\n",
            "app\n",
            "app\n",
            "app\n",
            "break\n"
          ]
        }
      ],
      "source": [
        "examples_correct = nn.get_examples(np.array(test_data), test_labels, True, 2)\n",
        "examples_wrong = nn.get_examples(np.array(test_data), test_labels, False, 10)"
      ]
    },
    {
      "cell_type": "code",
      "execution_count": 88,
      "metadata": {
        "colab": {
          "base_uri": "https://localhost:8080/",
          "height": 568
        },
        "id": "4DC6eISpHGUa",
        "outputId": "fa1e1c32-ed83-4417-98fc-8682dff91429"
      },
      "outputs": [
        {
          "name": "stdout",
          "output_type": "stream",
          "text": [
            "Prediction: 6, Expectation: 6\n",
            "Prediction: 2, Expectation: 2\n"
          ]
        },
        {
          "data": {
            "text/plain": [
              "<matplotlib.image.AxesImage at 0x7f2564f59ed0>"
            ]
          },
          "execution_count": 88,
          "metadata": {},
          "output_type": "execute_result"
        },
        {
          "data": {
            "image/png": "[encoded data removed]",
            "text/plain": [
              "<Figure size 432x288 with 1 Axes>"
            ]
          },
          "metadata": {
            "needs_background": "light"
          },
          "output_type": "display_data"
        },
        {
          "data": {
            "image/png": "[encoded data removed]",
            "text/plain": [
              "<Figure size 432x288 with 1 Axes>"
            ]
          },
          "metadata": {
            "needs_background": "light"
          },
          "output_type": "display_data"
        }
      ],
      "source": [
        "print(f\"Prediction: {examples_correct[0][0]}, Expectation: {examples_correct[0][1]}\")\n",
        "plt.figure(0)\n",
        "plt.imshow(examples_correct[0][2].reshape((28,28))*255)\n",
        "print(f\"Prediction: {examples_correct[1][0]}, Expectation: {examples_correct[1][1]}\")\n",
        "plt.figure(1)\n",
        "plt.imshow(examples_correct[1][2].reshape((28,28))*255)"
      ]
    },
    {
      "cell_type": "code",
      "execution_count": 89,
      "metadata": {
        "colab": {
          "base_uri": "https://localhost:8080/",
          "height": 302
        },
        "id": "nkzJcZryIXCW",
        "outputId": "0d3a7102-3ae8-4613-d809-19414eda03a3"
      },
      "outputs": [
        {
          "name": "stdout",
          "output_type": "stream",
          "text": [
            "Prediction: 9, Expectation: 7\n"
          ]
        },
        {
          "data": {
            "text/plain": [
              "<matplotlib.image.AxesImage at 0x7f25607c8810>"
            ]
          },
          "execution_count": 89,
          "metadata": {},
          "output_type": "execute_result"
        },
        {
          "data": {
            "image/png": "[encoded data removed]",
            "text/plain": [
              "<Figure size 432x288 with 1 Axes>"
            ]
          },
          "metadata": {
            "needs_background": "light"
          },
          "output_type": "display_data"
        }
      ],
      "source": [
        "i = 5\n",
        "print(f\"Prediction: {examples_wrong[i][0]}, Expectation: {examples_wrong[i][1]}\")\n",
        "plt.figure(i)\n",
        "plt.imshow(examples_wrong[i][2].reshape((28,28))*255)"
      ]
    },
    {
      "cell_type": "code",
      "execution_count": 90,
      "metadata": {
        "id": "WsHzfcYWWq6j"
      },
      "outputs": [],
      "source": [
        "confuse_matrix = nn.confusion_matrix(np.array(test_data), test_labels)"
      ]
    },
    {
      "cell_type": "code",
      "execution_count": 91,
      "metadata": {
        "colab": {
          "base_uri": "https://localhost:8080/"
        },
        "id": "mcRcyRtz6McG",
        "outputId": "a595970a-ffc2-4ef9-8666-92fbde34116d"
      },
      "outputs": [
        {
          "name": "stdout",
          "output_type": "stream",
          "text": [
            "Confuse matrix:\n",
            "\n",
            "   e   x   p   e   c   t   e   d   \n",
            "   0 | 1 | 2 | 3 | 4 | 5 | 6 | 7 | 8 | 9\n",
            "p 0 (852, 0, 19, 19, 3, 32, 14, 12, 12, 6)\n",
            "r 1 (2, 1126, 16, 8, 3, 13, 12, 14, 19, 6)\n",
            "e 2 (9, 12, 836, 45, 10, 21, 25, 22, 25, 11)\n",
            "d 3 (19, 16, 31, 781, 11, 77, 5, 4, 68, 22)\n",
            "i 4 (5, 3, 29, 5, 785, 18, 25, 27, 24, 110)\n",
            "c 5 (28, 10, 15, 78, 7, 642, 23, 8, 58, 13)\n",
            "t 6 (19, 3, 27, 11, 15, 37, 820, 3, 19, 5)\n",
            "e 7 (10, 0, 21, 20, 14, 13, 3, 892, 12, 85)\n",
            "d 8 (5, 11, 35, 50, 13, 61, 8, 18, 667, 29)\n",
            "  9 (11, 6, 7, 18, 81, 17, 7, 51, 32, 703)\n"
          ]
        }
      ],
      "source": [
        "display_confucion_matrix(confuse_matrix)"
      ]
    }
  ],
  "metadata": {
    "colab": {
      "collapsed_sections": [],
      "name": "sieci.ipynb",
      "provenance": []
    },
    "kernelspec": {
      "display_name": "Python 3",
      "name": "python3"
    },
    "language_info": {
      "name": "python"
    }
  },
  "nbformat": 4,
  "nbformat_minor": 0
}
